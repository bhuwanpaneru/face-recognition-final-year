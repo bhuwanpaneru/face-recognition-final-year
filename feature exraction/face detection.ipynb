{
 "cells": [
  {
   "cell_type": "code",
   "execution_count": 49,
   "metadata": {
    "collapsed": true
   },
   "outputs": [],
   "source": [
    "#viola jones algorithm\n",
    "\n",
    "import numpy as np\n",
    "import cv2\n",
    "import skimage\n",
    "face_cascade = cv2.CascadeClassifier('haarcascade_frontalface_default.xml')\n",
    "# ,0 automatically converts the image into gray image\n",
    "img = cv2.imread('images.jpg')\n",
    "recognizer = cv2.face.createEigenFaceRecognizer()\n",
    "#cv2.imshow('img',img)\n",
    "#cv2.waitKey(0)\n",
    "#cv2.destroyAllWindows()"
   ]
  },
  {
   "cell_type": "code",
   "execution_count": 2,
   "metadata": {
    "collapsed": true
   },
   "outputs": [],
   "source": [
    "#faces = face_cascade.detectMultiScale(img, 1.3, 5)\n",
    "faces = face_cascade.detectMultiScale(\n",
    "        img,\n",
    "        scaleFactor=1.3,\n",
    "        minNeighbors=5,\n",
    "        flags= cv2.CASCADE_SCALE_IMAGE\n",
    "    )\n",
    "for (x,y,w,h) in faces:\n",
    "    cv2.rectangle(img,(x,y),(x+w,y+h),(255,0,0),2)\n",
    "    cropped = img[y:y+h, x:x+w]\n",
    "    "
   ]
  },
  {
   "cell_type": "code",
   "execution_count": 3,
   "metadata": {
    "collapsed": false
   },
   "outputs": [
    {
     "ename": "error",
     "evalue": "/root/mc-x64-2.7/conda-bld/opencv-3_1482254119970/work/opencv-3.1.0/modules/highgui/src/window.cpp:545: error: (-2) The function is not implemented. Rebuild the library with Windows, GTK+ 2.x or Carbon support. If you are on Ubuntu or Debian, install libgtk2.0-dev and pkg-config, then re-run cmake or configure script in function cvShowImage\n",
     "output_type": "error",
     "traceback": [
      "\u001b[0;31m---------------------------------------------------------------------------\u001b[0m",
      "\u001b[0;31merror\u001b[0m                                     Traceback (most recent call last)",
      "\u001b[0;32m<ipython-input-3-a4f10d13f0b6>\u001b[0m in \u001b[0;36m<module>\u001b[0;34m()\u001b[0m\n\u001b[0;32m----> 1\u001b[0;31m \u001b[0mcv2\u001b[0m\u001b[0;34m.\u001b[0m\u001b[0mimshow\u001b[0m\u001b[0;34m(\u001b[0m\u001b[0;34m'img'\u001b[0m\u001b[0;34m,\u001b[0m\u001b[0mimg\u001b[0m\u001b[0;34m)\u001b[0m\u001b[0;34m\u001b[0m\u001b[0m\n\u001b[0m\u001b[1;32m      2\u001b[0m \u001b[0;31m#cv2.imwrite('img1.jpg',cropped)\u001b[0m\u001b[0;34m\u001b[0m\u001b[0;34m\u001b[0m\u001b[0m\n\u001b[1;32m      3\u001b[0m \u001b[0mcv2\u001b[0m\u001b[0;34m.\u001b[0m\u001b[0mwaitKey\u001b[0m\u001b[0;34m(\u001b[0m\u001b[0;36m0\u001b[0m\u001b[0;34m)\u001b[0m\u001b[0;34m\u001b[0m\u001b[0m\n\u001b[1;32m      4\u001b[0m \u001b[0mcv2\u001b[0m\u001b[0;34m.\u001b[0m\u001b[0mdestroyAllWindows\u001b[0m\u001b[0;34m(\u001b[0m\u001b[0;34m)\u001b[0m\u001b[0;34m\u001b[0m\u001b[0m\n",
      "\u001b[0;31merror\u001b[0m: /root/mc-x64-2.7/conda-bld/opencv-3_1482254119970/work/opencv-3.1.0/modules/highgui/src/window.cpp:545: error: (-2) The function is not implemented. Rebuild the library with Windows, GTK+ 2.x or Carbon support. If you are on Ubuntu or Debian, install libgtk2.0-dev and pkg-config, then re-run cmake or configure script in function cvShowImage\n"
     ]
    }
   ],
   "source": [
    "cv2.imshow('img',img)\n",
    "#cv2.imwrite('img1.jpg',cropped)\n",
    "cv2.waitKey(0)\n",
    "cv2.destroyAllWindows()"
   ]
  },
  {
   "cell_type": "code",
   "execution_count": 47,
   "metadata": {
    "collapsed": false
   },
   "outputs": [],
   "source": [
    "import os\n",
    "count=-1\n",
    "# traverse root directory, and list directories as dirs and files as files\n",
    "data = \"\"\n",
    "for root, dirs, files in os.walk(\"../CNN/lfw/lfw\"):\n",
    "    path = root.split(os.sep)\n",
    "    #print((len(path) - 1) * '---', os.path.basename(root))\n",
    "    dir1 = os.path.basename(root)\n",
    "    count=count+1\n",
    "    for file in files:\n",
    "        if file.endswith(\".jpg\"):\n",
    "            \n",
    "            list1 = LBP(\"../CNN/lfw/lfw/\"+dir1+\"/\"+file)\n",
    "            data += \",\".join(str(x) for x in list1) +\",\"+ str(count) + \" \\n\"\n",
    "with open(\"LFW.csv\", \"a\") as f:\n",
    "    f.write(data)"
   ]
  },
  {
   "cell_type": "code",
   "execution_count": null,
   "metadata": {
    "collapsed": true
   },
   "outputs": [],
   "source": []
  },
  {
   "cell_type": "code",
   "execution_count": 54,
   "metadata": {
    "collapsed": false
   },
   "outputs": [
    {
     "name": "stdout",
     "output_type": "stream",
     "text": [
      "(160, 160)\n",
      "[ 0.19182292  0.          0.          0.          0.          0.\n",
      "  0.33631944  0.          0.          0.          0.          0.          0.2628125\n",
      "  0.          0.          0.          0.          0.          0.\n",
      "  0.76930556  0.          0.          0.          0.          0.\n",
      "  1.60607639  0.          0.          0.          0.          0.          0.\n",
      "  1.24886285  0.          0.          0.          0.          0.\n",
      "  0.46143229  0.          0.          0.          0.          0.          0.\n",
      "  0.40957465  0.          0.          0.          0.          0.\n",
      "  0.62480903  0.          0.          0.          0.          0.\n",
      "  0.53342882]\n"
     ]
    }
   ],
   "source": [
    "import cv2\n",
    "import os\n",
    "from skimage.feature import local_binary_pattern\n",
    "from scipy.stats import itemfreq \n",
    "from sklearn.preprocessing import normalize \n",
    "import csv\n",
    "from PIL import Image\n",
    "import matplotlib.pyplot as plt\n",
    "\n",
    "def LBP(imgPath):\n",
    "    \n",
    "    img = cv2.imread(imgPath, 0)\n",
    "    faces = face_cascade.detectMultiScale(\n",
    "        img,\n",
    "        scaleFactor=1.3,\n",
    "        minNeighbors=5,\n",
    "        flags= cv2.CASCADE_SCALE_IMAGE\n",
    "    )\n",
    "    for (x,y,w,h) in faces:\n",
    "        cv2.rectangle(img,(x,y),(x+w,y+h),(255,0,0),2)\n",
    "        im_gray = img[y:y+h, x:x+w]\n",
    "    \n",
    "    #print(im_gray.shape)\n",
    "    \n",
    "#     im_gray = cv2.cvtColor( im_gray, cv2.COLOR_BGR2GRAY )\n",
    "#     im_gray = cv2.\n",
    "    radius = 1\n",
    "    no_points = 8 * radius\n",
    "    lbp = local_binary_pattern(im_gray, no_points, radius, method='uniform') \n",
    "    lbp_img = Image.fromarray(lbp)\n",
    "    #plt.subplot(121),plt.imshow(lbp_img)\n",
    "    #x = itemfreq(lbp.ravel())\n",
    "    #ans=sorted(set(lbp.ravel()))\n",
    "    #plt.subplot(122),plt.hist(lbp.ravel(),normed=True,bins=9)\n",
    "    #plt.show()\n",
    "\n",
    "    n,bins,patches = plt.hist(lbp.ravel(),normed=True,bins=58)\n",
    "    return n\n"
   ]
  },
  {
   "cell_type": "code",
   "execution_count": 87,
   "metadata": {
    "collapsed": false
   },
   "outputs": [
    {
     "name": "stdout",
     "output_type": "stream",
     "text": [
      "0.8125\n",
      "[[1 0 0 0 0 0 0 0 0 0]\n",
      " [0 2 0 0 0 0 1 0 0 0]\n",
      " [0 0 1 0 0 0 0 0 0 0]\n",
      " [0 0 0 2 0 0 0 0 0 0]\n",
      " [1 0 0 0 1 0 0 0 0 0]\n",
      " [0 0 0 0 0 1 0 0 0 0]\n",
      " [0 0 0 0 0 0 1 0 0 0]\n",
      " [1 0 0 0 0 0 0 1 0 0]\n",
      " [0 0 0 0 0 0 0 0 2 0]\n",
      " [0 0 0 0 0 0 0 0 0 1]]\n",
      "             precision    recall  f1-score   support\n",
      "\n",
      "          1       0.33      1.00      0.50         1\n",
      "          3       1.00      0.67      0.80         3\n",
      "          4       1.00      1.00      1.00         1\n",
      "          6       1.00      1.00      1.00         2\n",
      "          7       1.00      0.50      0.67         2\n",
      "          8       1.00      1.00      1.00         1\n",
      "          9       0.50      1.00      0.67         1\n",
      "         13       1.00      0.50      0.67         2\n",
      "         14       1.00      1.00      1.00         2\n",
      "         15       1.00      1.00      1.00         1\n",
      "\n",
      "avg / total       0.93      0.81      0.83        16\n",
      "\n"
     ]
    }
   ],
   "source": [
    "import os\n",
    "import dateutil\n",
    "import pandas\n",
    "from sklearn.ensemble import RandomForestRegressor\n",
    "from sklearn.tree import DecisionTreeRegressor\n",
    "from sklearn.linear_model import LinearRegression, Ridge\n",
    "from sklearn.neighbors import KNeighborsClassifier\n",
    "from sklearn.linear_model import LogisticRegression\n",
    "from sklearn.tree import DecisionTreeClassifier\n",
    "from sklearn.discriminant_analysis import LinearDiscriminantAnalysis\n",
    "from sklearn.naive_bayes import GaussianNB\n",
    "from sklearn.svm import SVC\n",
    "import numpy\n",
    "from sklearn.metrics import confusion_matrix, roc_curve, auc\n",
    "from sklearn.preprocessing import label_binarize\n",
    "from sklearn import cross_validation\n",
    "from sklearn.metrics import classification_report\n",
    "from sklearn.metrics import confusion_matrix\n",
    "from sklearn.metrics import accuracy_score\n",
    "import matplotlib.pyplot as plt\n",
    "dirPath = os.getcwd()\n",
    "dataSet1 = pandas.read_csv(str(dirPath)+\"/Yale DWT_3_edge.csv\")\n",
    "Ydata = dataSet1.ix[0:,len(dataSet1.columns)-1]\n",
    "dataSet1.drop(dataSet1.columns[[len(dataSet1.columns)-1]], axis=1, inplace=True) \n",
    "\n",
    "Xdata = dataSet1\n",
    "X = numpy.array(Xdata)\n",
    "\n",
    "Y = numpy.array(Ydata)\n",
    "validation_size = 0.1\n",
    "seed = 5\n",
    "X_train, X_validation, Y_train, Y_validation = cross_validation.train_test_split(X, Y, test_size=validation_size, random_state=seed)\n",
    "#svm1 = SVC()\n",
    "svm1 = KNeighborsClassifier()\n",
    "#svm1 = LinearDiscriminantAnalysis()\n",
    "\n",
    "svm1.fit(X_train, Y_train)\n",
    "predictions = svm1.predict(X_validation)\n",
    "print(accuracy_score(Y_validation, predictions))\n",
    "print(confusion_matrix(Y_validation, predictions))\n",
    "print(classification_report(Y_validation, predictions))\n"
   ]
  },
  {
   "cell_type": "code",
   "execution_count": null,
   "metadata": {
    "collapsed": true
   },
   "outputs": [],
   "source": [
    "def w2d(imArray, mode='db1', level=3):\n",
    "    \n",
    "    #convert to float\n",
    "    imArray =  np.float32(imArray)   \n",
    "    imArray /= 255;\n",
    "    # compute coefficients \n",
    "    coeffs=pywt.wavedec2(imArray, mode, level=level)\n",
    "     \n",
    "    return coeffs\n",
    "    "
   ]
  },
  {
   "cell_type": "code",
   "execution_count": 65,
   "metadata": {
    "collapsed": true
   },
   "outputs": [],
   "source": []
  },
  {
   "cell_type": "code",
   "execution_count": null,
   "metadata": {
    "collapsed": true
   },
   "outputs": [],
   "source": []
  }
 ],
 "metadata": {
  "anaconda-cloud": {},
  "kernelspec": {
   "display_name": "Python [default]",
   "language": "python",
   "name": "python3"
  },
  "language_info": {
   "codemirror_mode": {
    "name": "ipython",
    "version": 3
   },
   "file_extension": ".py",
   "mimetype": "text/x-python",
   "name": "python",
   "nbconvert_exporter": "python",
   "pygments_lexer": "ipython3",
   "version": "3.5.2"
  }
 },
 "nbformat": 4,
 "nbformat_minor": 1
}
