{
 "cells": [
  {
   "cell_type": "code",
   "execution_count": null,
   "metadata": {
    "collapsed": true
   },
   "outputs": [],
   "source": [
    "#This code function returns face with landmarks list and landmarks being pointed out with circles\n",
    "'''\n",
    "def faceDetectedMat(imagePath,HAAR_DETECTOR_PATH, PREDICTOR_PATH):\n",
    "    import numpy as np\n",
    "    import cv2\n",
    "    import dlib\n",
    "    predictor = dlib.shape_predictor(PREDICTOR_PATH)\n",
    "    face_cascade = cv2.CascadeClassifier(HAAR_DETECTOR_PATH)\n",
    "    img = cv2.imread(imagePath, cv2.IMREAD_UNCHANGED)\n",
    "    if len(img.shape)==3:\n",
    "        img = cv2.cvtColor(img, cv2.COLOR_BGR2GRAY)\n",
    "    face = face_cascade.detectMultiScale(img, 1.3, 5)\n",
    "    x,y,w,h = face[0]\n",
    "    rect = dlib.rectangle(int(x),int(y),int(x+w),int(y+h))\n",
    "    landmarks = np.matrix([[p.x, p.y] for p in predictor(img, rect).parts()])\n",
    "    for i in range(0,len(landmarks)):\n",
    "            cv2.putText(img, str(i), (landmarks[i,0], landmarks[i,1]),fontFace=cv2.FONT_HERSHEY_SCRIPT_SIMPLEX,fontScale=0.4,color=(0, 0, 0))\n",
    "            cv2.circle(img, (landmarks[i,0], landmarks[i,1]), 5, color=(255,255,255))\n",
    "    return img,np.array(landmarks).tolist()\n",
    "'''\n",
    "\n",
    "\n",
    "def faceDetectedMat(imagePath,HAAR_DETECTOR_PATH, PREDICTOR_PATH):\n",
    "    import numpy as np\n",
    "    import cv2\n",
    "    import dlib\n",
    "    import openface\n",
    "    predictor = dlib.shape_predictor(PREDICTOR_PATH)\n",
    "    face_aligner = openface.AlignDlib(PREDICTOR_PATH)\n",
    "    face_cascade = cv2.CascadeClassifier(HAAR_DETECTOR_PATH)\n",
    "    img = cv2.imread(imagePath, cv2.IMREAD_UNCHANGED)\n",
    "    if len(img.shape)==3:\n",
    "        img = cv2.cvtColor(img, cv2.COLOR_BGR2GRAY)\n",
    "    face = face_cascade.detectMultiScale(img, 1.3, 5)\n",
    "    \n",
    "    if type(face)==np.ndarray:\n",
    "        x = face[0][0]\n",
    "        y = face[0][1]\n",
    "        w = face[0][2]\n",
    "        h = face[0][3]\n",
    "        rect = img[y:y+h, x:x+w]\n",
    "        alignedFace = face_aligner.align(534, rect, face, landmarkIndices=openface.AlignDlib.OUTER_EYES_AND_NOSE)\n",
    "        rect = alignedFace\n",
    "        rect = cv2.resize(rect, (150,150))        \n",
    "        return rect\n",
    "    else:\n",
    "        return None\n"
   ]
  },
  {
   "cell_type": "code",
   "execution_count": 1,
   "metadata": {
    "collapsed": false
   },
   "outputs": [
    {
     "name": "stdout",
     "output_type": "stream",
     "text": [
      "/home/deepika/FinalyearDeepika/research project/Face-Recognition\n"
     ]
    }
   ],
   "source": [
    "import os\n",
    "import sys\n",
    "print(os.getcwd())\n"
   ]
  }
 ],
 "metadata": {
  "anaconda-cloud": {},
  "kernelspec": {
   "display_name": "Python 3",
   "language": "python",
   "name": "python3"
  },
  "language_info": {
   "codemirror_mode": {
    "name": "ipython",
    "version": 3
   },
   "file_extension": ".py",
   "mimetype": "text/x-python",
   "name": "python",
   "nbconvert_exporter": "python",
   "pygments_lexer": "ipython3",
   "version": "3.5.2"
  }
 },
 "nbformat": 4,
 "nbformat_minor": 1
}
